{
 "cells": [
  {
   "cell_type": "code",
   "execution_count": 2,
   "id": "2f7bc2e2",
   "metadata": {},
   "outputs": [
    {
     "name": "stdout",
     "output_type": "stream",
     "text": [
      "/home/rburke/breast_cancer_survival_project/scripts\n"
     ]
    }
   ],
   "source": [
    "import os\n",
    "\n",
    "# Print the current working directory\n",
    "print(os.getcwd())"
   ]
  },
  {
   "cell_type": "code",
   "execution_count": 12,
   "id": "8f3ae148",
   "metadata": {},
   "outputs": [
    {
     "name": "stdout",
     "output_type": "stream",
     "text": [
      "Data preprocessing completed and saved successfully.\n"
     ]
    }
   ],
   "source": [
    "import pandas as pd\n",
    "from sklearn.impute import SimpleImputer\n",
    "from sklearn.preprocessing import StandardScaler, OneHotEncoder\n",
    "from sklearn.compose import ColumnTransformer\n",
    "from sklearn.pipeline import Pipeline\n",
    "from sksurv.util import Surv\n",
    "\n",
    "# Load raw data\n",
    "df = pd.read_csv(\"../data/raw/breast_cancer_data_raw.csv\")\n",
    "\n",
    "\n",
    "\n",
    "# Handling missing values & encoding Tumor Grade\n",
    "df[\"Tumor grade\"] = df[\"Tumor grade\"].replace('1 or 2', '1.5')\n",
    "df[\"Tumor grade\"] = df[\"Tumor grade\"].astype(float) # keep NaNs intact\n",
    "\n",
    "# Feature Engineering: No. of Metastatic Sites\n",
    "# Map 'N of met. Sites' to numeric values\n",
    "df['N of met. Sites numeric'] = df['N of met. Sites'].map({'< 3': 0, '>=3': 1})\n",
    "\n",
    "# List of categorical features which will be included in model\n",
    "# Drop missing values in categorical features BEFORE feature selection\n",
    "categorical_features = ['subtype', 'metastatic site', 'N of met. Sites numeric', 'Tumor grade']\n",
    "# 1 missing value in 'metastatic site' and 'N of met. Sites' removed below, 17 missing values from tumor grade\n",
    "df = df.dropna(subset=categorical_features)\n",
    "\n",
    "#Preprocessing\n",
    "# Select Relevant Features for Model\n",
    "features = df [['AGE', 'PS', 'CTCs counts at baseline', 'MAF of gene used at baseline'] + categorical_features]\n",
    "target = df[['Status OS', 'OS at baseline']] \n",
    "# [[selects multiple columns]], result is a dataframe.\n",
    "# [selects a single column], result is a series.\n",
    "\n",
    "\n",
    "# Define Preprocessing for Numberic and Categorical Variables\n",
    "\n",
    "# List of numeric features which will be included in model\n",
    "numeric_features = ['AGE', 'PS', 'CTCs counts at baseline', 'MAF of gene used at baseline']\n",
    "\n",
    "\n",
    "# Numeric Pipeline:\n",
    "# Creates pipeline for preprocessing numeric features. Scaling. Previously had imputing, but not needed anymore.\n",
    "numeric_transformer = Pipeline(steps=[\n",
    "    ('scaler', StandardScaler())]) # Scale numeric features\n",
    "\n",
    "# Pipeline from sklearn.pipeline allows chaining of multiple preprocessing steps together.\n",
    "# Standardizing the features involves subtracting the mean and scaling to unit variance.\n",
    "# ML algorithms perform better when input data is standardized.\n",
    "\n",
    "\n",
    "# Creates pipeline for preprocessing categorical features\n",
    "categorical_transformer = OneHotEncoder(handle_unknown='ignore')  # One-hot encode categorical features with unknown handling\n",
    "\n",
    "# One-hot encoding converts categorical variables into format for ML algorithms.\n",
    "# Creates binary columns for each category so model can interpret categorical data\n",
    "\n",
    "\n",
    "# Combining transformers into single preprocessor\n",
    "preprocessor = ColumnTransformer(\n",
    "    transformers=[\n",
    "        ('num', numeric_transformer, numeric_features), # applies numeric transformer to numeric features\n",
    "        ('cat', categorical_transformer, categorical_features)]) # applies cat transformer to cat features\n",
    "\n",
    "\n",
    "# Apply preprocessing\n",
    "X_processed = preprocessor.fit_transform(features)\n",
    "\n",
    "# Get column names after one-hot encoding\n",
    "cat_columns = preprocessor.named_transformers_['cat'].get_feature_names_out(categorical_features)\n",
    "processed_columns = numeric_features + list(cat_columns)\n",
    "\n",
    "# Create processed DataFrame\n",
    "df_processed = pd.DataFrame(X_processed, columns=processed_columns, index=df.index)\n",
    "\n",
    "\n",
    "# Append target variables clearly to the processed DataFrame\n",
    "df_processed['Status OS'] = target['Status OS'].values\n",
    "df_processed['OS at baseline'] = target['OS at baseline'].values\n",
    "\n",
    "\n",
    "\n",
    "# Creating the survival dataset directly\n",
    "# Converts 'target' with columns 'Status OS' and 'OS at baseline' into structured array suitable for survival analysis\n",
    "# y = Surv.from_dataframe(\"Status OS\", \"OS at baseline\", target)\n",
    "\n",
    "\n",
    "\n",
    "# Save processed data\n",
    "df_processed.to_csv(\"../data/processed/breast_cancer_data_processed.csv\", index=False)\n",
    "\n",
    "print(\"Data preprocessing completed and saved successfully.\")"
   ]
  },
  {
   "cell_type": "code",
   "execution_count": null,
   "id": "58ec7cf6",
   "metadata": {},
   "outputs": [],
   "source": []
  }
 ],
 "metadata": {
  "kernelspec": {
   "display_name": "Python 3 (ipykernel)",
   "language": "python",
   "name": "python3"
  },
  "language_info": {
   "codemirror_mode": {
    "name": "ipython",
    "version": 3
   },
   "file_extension": ".py",
   "mimetype": "text/x-python",
   "name": "python",
   "nbconvert_exporter": "python",
   "pygments_lexer": "ipython3",
   "version": "3.11.5"
  }
 },
 "nbformat": 4,
 "nbformat_minor": 5
}
